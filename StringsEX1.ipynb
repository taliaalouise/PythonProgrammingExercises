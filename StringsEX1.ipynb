{
 "cells": [
  {
   "cell_type": "markdown",
   "metadata": {},
   "source": [
    "## Strings exercise 1\n"
   ]
  },
  {
   "cell_type": "code",
   "execution_count": 7,
   "metadata": {},
   "outputs": [],
   "source": [
    "# create a variable with the data type string\n",
    "\n",
    "myString = \"hello world\" # double quotes mean text data\n",
    "userName = \"Fred\"\n",
    "words = \"this is a bunch of words\"\n",
    "question = \"what is the capital of Mali\"\n",
    "age = 10 # this is not a string"
   ]
  },
  {
   "cell_type": "code",
   "execution_count": 10,
   "metadata": {},
   "outputs": [
    {
     "name": "stdout",
     "output_type": "stream",
     "text": [
      "this is a bunch of words\n",
      "this is a bunch of wordswhat is the capital of Mali\n",
      "hello user  Fred\n",
      "hello user Fred\n",
      "hello user  10\n"
     ]
    },
    {
     "ename": "TypeError",
     "evalue": "Can't convert 'int' object to str implicitly",
     "output_type": "error",
     "traceback": [
      "\u001b[0;31m---------------------------------------------------------------------------\u001b[0m",
      "\u001b[0;31mTypeError\u001b[0m                                 Traceback (most recent call last)",
      "\u001b[0;32m<ipython-input-10-d1bb932444dd>\u001b[0m in \u001b[0;36m<module>\u001b[0;34m()\u001b[0m\n\u001b[1;32m      7\u001b[0m \u001b[0mprint\u001b[0m\u001b[0;34m(\u001b[0m\u001b[0;34m\"hello user \"\u001b[0m\u001b[0;34m+\u001b[0m \u001b[0muserName\u001b[0m\u001b[0;34m)\u001b[0m\u001b[0;34m\u001b[0m\u001b[0m\n\u001b[1;32m      8\u001b[0m \u001b[0mprint\u001b[0m\u001b[0;34m(\u001b[0m\u001b[0;34m\"hello user \"\u001b[0m\u001b[0;34m,\u001b[0m \u001b[0mage\u001b[0m\u001b[0;34m)\u001b[0m\u001b[0;34m\u001b[0m\u001b[0m\n\u001b[0;32m----> 9\u001b[0;31m \u001b[0mprint\u001b[0m\u001b[0;34m(\u001b[0m\u001b[0;34m\"hello user \"\u001b[0m\u001b[0;34m+\u001b[0m \u001b[0mage\u001b[0m\u001b[0;34m)\u001b[0m\u001b[0;34m\u001b[0m\u001b[0m\n\u001b[0m",
      "\u001b[0;31mTypeError\u001b[0m: Can't convert 'int' object to str implicitly"
     ]
    }
   ],
   "source": [
    "# functions that i can use to output input and do other things with strings \n",
    "# output \n",
    "print(words)\n",
    "print(words + question) # when you + strings you are concatenating them\n",
    "# printing hardcoded and variables\n",
    "print(\"hello user \", userName)\n",
    "print(\"hello user \"+ userName)\n",
    "print(\"hello user \", age)\n",
    "print(\"hello user \"+ age)"
   ]
  },
  {
   "cell_type": "code",
   "execution_count": 13,
   "metadata": {},
   "outputs": [
    {
     "name": "stdout",
     "output_type": "stream",
     "text": [
      "hello user of age 10\n"
     ]
    }
   ],
   "source": [
    "# convert int into a string using a function \n",
    "str(age)\n",
    "print(\"hello user of age \"+str(age)) #first turn the age number into a string then concatenates"
   ]
  },
  {
   "cell_type": "code",
   "execution_count": 17,
   "metadata": {},
   "outputs": [
    {
     "name": "stdout",
     "output_type": "stream",
     "text": [
      "what is your name? Talia\n",
      "Talia\n",
      "what is your age? 16\n",
      "16\n",
      "Talia 16\n"
     ]
    }
   ],
   "source": [
    "userName = input(\"what is your name? \")\n",
    "print(userName)\n",
    "age = input (\"what is your age? \")\n",
    "print(age)\n",
    "print(userName, age)"
   ]
  },
  {
   "cell_type": "code",
   "execution_count": null,
   "metadata": {},
   "outputs": [],
   "source": []
  }
 ],
 "metadata": {
  "kernelspec": {
   "display_name": "Python 3",
   "language": "python",
   "name": "python3"
  },
  "language_info": {
   "codemirror_mode": {
    "name": "ipython",
    "version": 3
   },
   "file_extension": ".py",
   "mimetype": "text/x-python",
   "name": "python",
   "nbconvert_exporter": "python",
   "pygments_lexer": "ipython3",
   "version": "3.5.2"
  }
 },
 "nbformat": 4,
 "nbformat_minor": 2
}
